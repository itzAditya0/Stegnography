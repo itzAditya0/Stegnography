{
 "cells": [
  {
   "cell_type": "code",
   "execution_count": 1,
   "id": "a3f414d1",
   "metadata": {
    "execution": {
     "iopub.execute_input": "2025-01-07T18:58:00.436733Z",
     "iopub.status.busy": "2025-01-07T18:58:00.436519Z",
     "iopub.status.idle": "2025-01-07T18:58:04.689653Z",
     "shell.execute_reply": "2025-01-07T18:58:04.688607Z"
    },
    "papermill": {
     "duration": 4.258166,
     "end_time": "2025-01-07T18:58:04.691782",
     "exception": false,
     "start_time": "2025-01-07T18:58:00.433616",
     "status": "completed"
    },
    "tags": []
   },
   "outputs": [
    {
     "name": "stdout",
     "output_type": "stream",
     "text": [
      "Requirement already satisfied: torch in /usr/local/lib/python3.10/dist-packages (2.4.1+cu121)\r\n",
      "Requirement already satisfied: torchvision in /usr/local/lib/python3.10/dist-packages (0.19.1+cu121)\r\n",
      "Requirement already satisfied: matplotlib in /usr/local/lib/python3.10/dist-packages (3.7.1)\r\n",
      "Requirement already satisfied: filelock in /usr/local/lib/python3.10/dist-packages (from torch) (3.16.1)\r\n",
      "Requirement already satisfied: typing-extensions>=4.8.0 in /usr/local/lib/python3.10/dist-packages (from torch) (4.12.2)\r\n",
      "Requirement already satisfied: sympy in /usr/local/lib/python3.10/dist-packages (from torch) (1.13.3)\r\n",
      "Requirement already satisfied: networkx in /usr/local/lib/python3.10/dist-packages (from torch) (3.3)\r\n",
      "Requirement already satisfied: jinja2 in /usr/local/lib/python3.10/dist-packages (from torch) (3.1.4)\r\n",
      "Requirement already satisfied: fsspec in /usr/local/lib/python3.10/dist-packages (from torch) (2024.6.1)\r\n",
      "Requirement already satisfied: numpy in /usr/local/lib/python3.10/dist-packages (from torchvision) (1.26.4)\r\n",
      "Requirement already satisfied: pillow!=8.3.*,>=5.3.0 in /usr/local/lib/python3.10/dist-packages (from torchvision) (10.4.0)\r\n",
      "Requirement already satisfied: contourpy>=1.0.1 in /usr/local/lib/python3.10/dist-packages (from matplotlib) (1.3.0)\r\n",
      "Requirement already satisfied: cycler>=0.10 in /usr/local/lib/python3.10/dist-packages (from matplotlib) (0.12.1)\r\n",
      "Requirement already satisfied: fonttools>=4.22.0 in /usr/local/lib/python3.10/dist-packages (from matplotlib) (4.53.1)\r\n",
      "Requirement already satisfied: kiwisolver>=1.0.1 in /usr/local/lib/python3.10/dist-packages (from matplotlib) (1.4.7)\r\n",
      "Requirement already satisfied: packaging>=20.0 in /usr/local/lib/python3.10/dist-packages (from matplotlib) (24.1)\r\n",
      "Requirement already satisfied: pyparsing>=2.3.1 in /usr/local/lib/python3.10/dist-packages (from matplotlib) (3.1.4)\r\n",
      "Requirement already satisfied: python-dateutil>=2.7 in /usr/local/lib/python3.10/dist-packages (from matplotlib) (2.8.2)\r\n",
      "Requirement already satisfied: six>=1.5 in /usr/local/lib/python3.10/dist-packages (from python-dateutil>=2.7->matplotlib) (1.16.0)\r\n",
      "Requirement already satisfied: MarkupSafe>=2.0 in /usr/local/lib/python3.10/dist-packages (from jinja2->torch) (2.1.5)\r\n",
      "Requirement already satisfied: mpmath<1.4,>=1.1.0 in /usr/local/lib/python3.10/dist-packages (from sympy->torch) (1.3.0)\r\n"
     ]
    }
   ],
   "source": [
    "!pip install torch torchvision matplotlib\n",
    "\n"
   ]
  },
  {
   "cell_type": "code",
   "execution_count": 2,
   "id": "ebde7fdb",
   "metadata": {
    "execution": {
     "iopub.execute_input": "2025-01-07T18:58:04.697774Z",
     "iopub.status.busy": "2025-01-07T18:58:04.697519Z",
     "iopub.status.idle": "2025-01-07T18:58:08.751072Z",
     "shell.execute_reply": "2025-01-07T18:58:08.750400Z"
    },
    "papermill": {
     "duration": 4.058144,
     "end_time": "2025-01-07T18:58:08.752603",
     "exception": false,
     "start_time": "2025-01-07T18:58:04.694459",
     "status": "completed"
    },
    "tags": []
   },
   "outputs": [],
   "source": [
    "import torch\n",
    "import torch.nn as nn\n",
    "import torch.optim as optim\n",
    "from torchvision import datasets, transforms, models\n",
    "import matplotlib.pyplot as plt\n",
    "import numpy as np"
   ]
  },
  {
   "cell_type": "code",
   "execution_count": 3,
   "id": "405268a1",
   "metadata": {
    "execution": {
     "iopub.execute_input": "2025-01-07T18:58:08.757868Z",
     "iopub.status.busy": "2025-01-07T18:58:08.757566Z",
     "iopub.status.idle": "2025-01-07T18:58:14.902162Z",
     "shell.execute_reply": "2025-01-07T18:58:14.901457Z"
    },
    "papermill": {
     "duration": 6.148835,
     "end_time": "2025-01-07T18:58:14.903755",
     "exception": false,
     "start_time": "2025-01-07T18:58:08.754920",
     "status": "completed"
    },
    "tags": []
   },
   "outputs": [
    {
     "name": "stdout",
     "output_type": "stream",
     "text": [
      "Downloading https://www.cs.toronto.edu/~kriz/cifar-10-python.tar.gz to ./data/cifar-10-python.tar.gz\n"
     ]
    },
    {
     "name": "stderr",
     "output_type": "stream",
     "text": [
      "100%|██████████| 170498071/170498071 [00:02<00:00, 59871508.23it/s] \n"
     ]
    },
    {
     "name": "stdout",
     "output_type": "stream",
     "text": [
      "Extracting ./data/cifar-10-python.tar.gz to ./data\n",
      "Files already downloaded and verified\n"
     ]
    }
   ],
   "source": [
    "# Data augmentation and normalization for training\n",
    "# Just normalization for validation\n",
    "transform_train = transforms.Compose([\n",
    "    transforms.RandomResizedCrop(32),  # Random crop to 32x32\n",
    "    transforms.RandomHorizontalFlip(),  # Flip images horizontally\n",
    "    transforms.ToTensor(),\n",
    "    transforms.Normalize(mean=[0.485, 0.456, 0.406], std=[0.229, 0.224, 0.225])  # Based on ImageNet\n",
    "])\n",
    "\n",
    "transform_test = transforms.Compose([\n",
    "    transforms.ToTensor(),\n",
    "    transforms.Normalize(mean=[0.485, 0.456, 0.406], std=[0.229, 0.224, 0.225])\n",
    "])\n",
    "\n",
    "# Download CIFAR-10 dataset\n",
    "train_data = datasets.CIFAR10(root='./data', train=True, download=True, transform=transform_train)\n",
    "test_data = datasets.CIFAR10(root='./data', train=False, download=True, transform=transform_test)\n",
    "\n",
    "# Create DataLoader for batch processing\n",
    "train_loader = torch.utils.data.DataLoader(train_data, batch_size=64, shuffle=True)\n",
    "test_loader = torch.utils.data.DataLoader(test_data, batch_size=64, shuffle=False)\n"
   ]
  },
  {
   "cell_type": "code",
   "execution_count": 4,
   "id": "f3e89117",
   "metadata": {
    "execution": {
     "iopub.execute_input": "2025-01-07T18:58:14.912104Z",
     "iopub.status.busy": "2025-01-07T18:58:14.911856Z",
     "iopub.status.idle": "2025-01-07T18:58:15.790236Z",
     "shell.execute_reply": "2025-01-07T18:58:15.789268Z"
    },
    "papermill": {
     "duration": 0.884064,
     "end_time": "2025-01-07T18:58:15.791855",
     "exception": false,
     "start_time": "2025-01-07T18:58:14.907791",
     "status": "completed"
    },
    "tags": []
   },
   "outputs": [
    {
     "name": "stderr",
     "output_type": "stream",
     "text": [
      "/usr/local/lib/python3.10/dist-packages/torchvision/models/_utils.py:208: UserWarning: The parameter 'pretrained' is deprecated since 0.13 and may be removed in the future, please use 'weights' instead.\n",
      "  warnings.warn(\n",
      "/usr/local/lib/python3.10/dist-packages/torchvision/models/_utils.py:223: UserWarning: Arguments other than a weight enum or `None` for 'weights' are deprecated since 0.13 and may be removed in the future. The current behavior is equivalent to passing `weights=ResNet18_Weights.IMAGENET1K_V1`. You can also use `weights=ResNet18_Weights.DEFAULT` to get the most up-to-date weights.\n",
      "  warnings.warn(msg)\n",
      "Downloading: \"https://download.pytorch.org/models/resnet18-f37072fd.pth\" to /root/.cache/torch/hub/checkpoints/resnet18-f37072fd.pth\n",
      "100%|██████████| 44.7M/44.7M [00:00<00:00, 171MB/s]\n"
     ]
    }
   ],
   "source": [
    "# Load pre-trained ResNet-18 model\n",
    "model = models.resnet18(pretrained=True)\n",
    "\n",
    "# Modify the last fully connected layer to fit CIFAR-10 (10 classes)\n",
    "model.fc = nn.Linear(model.fc.in_features, 10)\n",
    "\n",
    "# Move model to GPU if available\n",
    "device = torch.device(\"cuda\" if torch.cuda.is_available() else \"cpu\")\n",
    "model = model.to(device)\n"
   ]
  },
  {
   "cell_type": "code",
   "execution_count": 5,
   "id": "81eb23db",
   "metadata": {
    "execution": {
     "iopub.execute_input": "2025-01-07T18:58:15.800871Z",
     "iopub.status.busy": "2025-01-07T18:58:15.800614Z",
     "iopub.status.idle": "2025-01-07T18:58:15.804565Z",
     "shell.execute_reply": "2025-01-07T18:58:15.803885Z"
    },
    "papermill": {
     "duration": 0.009493,
     "end_time": "2025-01-07T18:58:15.805679",
     "exception": false,
     "start_time": "2025-01-07T18:58:15.796186",
     "status": "completed"
    },
    "tags": []
   },
   "outputs": [],
   "source": [
    "criterion = nn.CrossEntropyLoss()\n",
    "optimizer = optim.Adam(model.parameters(), lr=0.001)"
   ]
  },
  {
   "cell_type": "code",
   "execution_count": 6,
   "id": "25aca107",
   "metadata": {
    "execution": {
     "iopub.execute_input": "2025-01-07T18:58:15.813818Z",
     "iopub.status.busy": "2025-01-07T18:58:15.813593Z",
     "iopub.status.idle": "2025-01-07T19:01:21.302821Z",
     "shell.execute_reply": "2025-01-07T19:01:21.301851Z"
    },
    "papermill": {
     "duration": 185.498361,
     "end_time": "2025-01-07T19:01:21.307758",
     "exception": false,
     "start_time": "2025-01-07T18:58:15.809397",
     "status": "completed"
    },
    "tags": []
   },
   "outputs": [
    {
     "name": "stdout",
     "output_type": "stream",
     "text": [
      "Epoch [1/5], Loss: 1.4254, Accuracy: 50.30%\n",
      "Epoch [2/5], Loss: 1.1948, Accuracy: 58.98%\n",
      "Epoch [3/5], Loss: 1.0964, Accuracy: 62.04%\n",
      "Epoch [4/5], Loss: 1.0578, Accuracy: 63.24%\n",
      "Epoch [5/5], Loss: 0.9970, Accuracy: 65.45%\n"
     ]
    }
   ],
   "source": [
    "num_epochs = 5  # You can increase epochs for better performance\n",
    "\n",
    "for epoch in range(num_epochs):\n",
    "    model.train()  # Set the model to training mode\n",
    "    running_loss = 0.0\n",
    "    correct = 0\n",
    "    total = 0\n",
    "    \n",
    "    for inputs, labels in train_loader:\n",
    "        inputs, labels = inputs.to(device), labels.to(device)\n",
    "        \n",
    "        optimizer.zero_grad()  # Zero gradients before backward pass\n",
    "        \n",
    "        # Forward pass\n",
    "        outputs = model(inputs)\n",
    "        loss = criterion(outputs, labels)\n",
    "        \n",
    "        # Backward pass and optimization\n",
    "        loss.backward()\n",
    "        optimizer.step()\n",
    "        \n",
    "        # Track loss and accuracy\n",
    "        running_loss += loss.item()\n",
    "        _, predicted = torch.max(outputs, 1)\n",
    "        total += labels.size(0)\n",
    "        correct += (predicted == labels).sum().item()\n",
    "\n",
    "    # Print training statistics after each epoch\n",
    "    train_accuracy = 100 * correct / total\n",
    "    print(f\"Epoch [{epoch+1}/{num_epochs}], Loss: {running_loss/len(train_loader):.4f}, Accuracy: {train_accuracy:.2f}%\")\n"
   ]
  },
  {
   "cell_type": "code",
   "execution_count": 7,
   "id": "7e656e27",
   "metadata": {
    "execution": {
     "iopub.execute_input": "2025-01-07T19:01:21.316819Z",
     "iopub.status.busy": "2025-01-07T19:01:21.316552Z",
     "iopub.status.idle": "2025-01-07T19:01:24.033375Z",
     "shell.execute_reply": "2025-01-07T19:01:24.032459Z"
    },
    "papermill": {
     "duration": 2.72284,
     "end_time": "2025-01-07T19:01:24.034692",
     "exception": false,
     "start_time": "2025-01-07T19:01:21.311852",
     "status": "completed"
    },
    "tags": []
   },
   "outputs": [
    {
     "name": "stdout",
     "output_type": "stream",
     "text": [
      "Test Accuracy: 68.93%\n"
     ]
    }
   ],
   "source": [
    "model.eval()  # Set the model to evaluation mode\n",
    "correct = 0\n",
    "total = 0\n",
    "\n",
    "with torch.no_grad():  # No need to track gradients during testing\n",
    "    for inputs, labels in test_loader:\n",
    "        inputs, labels = inputs.to(device), labels.to(device)\n",
    "        outputs = model(inputs)\n",
    "        _, predicted = torch.max(outputs, 1)\n",
    "        total += labels.size(0)\n",
    "        correct += (predicted == labels).sum().item()\n",
    "\n",
    "test_accuracy = 100 * correct / total\n",
    "print(f\"Test Accuracy: {test_accuracy:.2f}%\")\n"
   ]
  },
  {
   "cell_type": "code",
   "execution_count": 8,
   "id": "27d1566b",
   "metadata": {
    "execution": {
     "iopub.execute_input": "2025-01-07T19:01:24.044044Z",
     "iopub.status.busy": "2025-01-07T19:01:24.043822Z",
     "iopub.status.idle": "2025-01-07T19:01:24.113840Z",
     "shell.execute_reply": "2025-01-07T19:01:24.113164Z"
    },
    "papermill": {
     "duration": 0.076185,
     "end_time": "2025-01-07T19:01:24.115305",
     "exception": false,
     "start_time": "2025-01-07T19:01:24.039120",
     "status": "completed"
    },
    "tags": []
   },
   "outputs": [],
   "source": [
    "# Save the trained model\n",
    "torch.save(model.state_dict(), 'stegonet.pth')"
   ]
  }
 ],
 "metadata": {
  "kaggle": {
   "accelerator": "nvidiaTeslaT4",
   "dataSources": [
    {
     "datasetId": 11102,
     "sourceId": 15444,
     "sourceType": "datasetVersion"
    },
    {
     "datasetId": 366471,
     "sourceId": 714968,
     "sourceType": "datasetVersion"
    },
    {
     "datasetId": 857191,
     "sourceId": 1462296,
     "sourceType": "datasetVersion"
    }
   ],
   "dockerImageVersionId": 30823,
   "isGpuEnabled": true,
   "isInternetEnabled": true,
   "language": "python",
   "sourceType": "notebook"
  },
  "kernelspec": {
   "display_name": "Python 3",
   "language": "python",
   "name": "python3"
  },
  "language_info": {
   "codemirror_mode": {
    "name": "ipython",
    "version": 3
   },
   "file_extension": ".py",
   "mimetype": "text/x-python",
   "name": "python",
   "nbconvert_exporter": "python",
   "pygments_lexer": "ipython3",
   "version": "3.10.12"
  },
  "papermill": {
   "default_parameters": {},
   "duration": 207.034183,
   "end_time": "2025-01-07T19:01:25.338810",
   "environment_variables": {},
   "exception": null,
   "input_path": "__notebook__.ipynb",
   "output_path": "__notebook__.ipynb",
   "parameters": {},
   "start_time": "2025-01-07T18:57:58.304627",
   "version": "2.6.0"
  }
 },
 "nbformat": 4,
 "nbformat_minor": 5
}
